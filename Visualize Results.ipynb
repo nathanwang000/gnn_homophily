{
 "cells": [
  {
   "cell_type": "code",
   "execution_count": 10,
   "metadata": {},
   "outputs": [],
   "source": [
    "import numpy as np\n",
    "import pandas as pd\n",
    "import matplotlib.pyplot as plt\n",
    "import pickle\n",
    "import torch\n",
    "from torch.autograd import Variable\n",
    "import sys\n",
    "import os\n",
    "from sklearn import metrics\n",
    "import save_load_util as pa"
   ]
  },
  {
   "cell_type": "code",
   "execution_count": 11,
   "metadata": {},
   "outputs": [],
   "source": [
    "#This determines what run we want to visualize. It is important to import model and data functions specific to that run as well.\n",
    "path = '/data4/jeeheh/ShadowPeriod/pytorchLSTM/inprog18/'\n",
    "from pytorchLSTM.inprog18 import model as custom_model\n",
    "from pytorchLSTM.inprog18 import data as custom_data"
   ]
  },
  {
   "cell_type": "code",
   "execution_count": 12,
   "metadata": {},
   "outputs": [],
   "source": [
    "#Load Files from Run\n",
    "pred = pd.read_hdf(path+'/data.h5','pred')\n",
    "traintestloss = pd.read_hdf(path+'/data.h5','traintestloss')\n",
    "with open(path+'/args.pkl', 'rb') as f: args = pickle.load(f)"
   ]
  },
  {
   "cell_type": "code",
   "execution_count": 13,
   "metadata": {},
   "outputs": [],
   "source": [
    "args={}\n",
    "args['nrep'] = 1000\n",
    "args['lower']=np.around(.025*args['nrep'],decimals=0).astype(int)\n",
    "args['upper']=np.around(.975*args['nrep'],decimals=0).astype(int)\n",
    "args['data_loc'] = '/data4/jeeheh/ShadowPeriod/Data/Adult_fulldata_2_14_19_v16 - labs and meds fixed - Without Procedures BMI Fixed/'"
   ]
  },
  {
   "cell_type": "markdown",
   "metadata": {},
   "source": [
    "### HP Search Settings"
   ]
  },
  {
   "cell_type": "code",
   "execution_count": 14,
   "metadata": {},
   "outputs": [
    {
     "data": {
      "text/html": [
       "<div>\n",
       "<style scoped>\n",
       "    .dataframe tbody tr th:only-of-type {\n",
       "        vertical-align: middle;\n",
       "    }\n",
       "\n",
       "    .dataframe tbody tr th {\n",
       "        vertical-align: top;\n",
       "    }\n",
       "\n",
       "    .dataframe thead th {\n",
       "        text-align: right;\n",
       "    }\n",
       "</style>\n",
       "<table border=\"1\" class=\"dataframe\">\n",
       "  <thead>\n",
       "    <tr style=\"text-align: right;\">\n",
       "      <th></th>\n",
       "      <th>num_param</th>\n",
       "      <th>batch_size</th>\n",
       "      <th>learning_rate</th>\n",
       "      <th>l2</th>\n",
       "      <th>hidden_size</th>\n",
       "      <th>randominit</th>\n",
       "      <th>depth</th>\n",
       "      <th>dropout</th>\n",
       "      <th>testauc</th>\n",
       "    </tr>\n",
       "  </thead>\n",
       "  <tbody>\n",
       "    <tr>\n",
       "      <td>0</td>\n",
       "      <td>35635202</td>\n",
       "      <td>10</td>\n",
       "      <td>0.01</td>\n",
       "      <td>0.15</td>\n",
       "      <td>1200</td>\n",
       "      <td>0</td>\n",
       "      <td>1</td>\n",
       "      <td>0.1</td>\n",
       "      <td>0.740184</td>\n",
       "    </tr>\n",
       "  </tbody>\n",
       "</table>\n",
       "</div>"
      ],
      "text/plain": [
       "   num_param  batch_size  learning_rate    l2  hidden_size  randominit  depth  \\\n",
       "0   35635202          10           0.01  0.15         1200           0      1   \n",
       "\n",
       "   dropout   testauc  \n",
       "0      0.1  0.740184  "
      ]
     },
     "metadata": {},
     "output_type": "display_data"
    }
   ],
   "source": [
    "zdf = pred.loc[:,['num_param','batch_size','learning_rate','l2','hidden_size','randominit','depth','dropout']].drop_duplicates()\n",
    "zdf = zdf.merge(traintestloss.groupby(['randominit'],as_index=False).testauc.max(), how='left', on='randominit')\n",
    "display(zdf)"
   ]
  },
  {
   "cell_type": "markdown",
   "metadata": {},
   "source": [
    "## Best Performance"
   ]
  },
  {
   "cell_type": "code",
   "execution_count": 6,
   "metadata": {},
   "outputs": [
    {
     "data": {
      "text/plain": [
       "testauc        0.767386\n",
       "valauc         0.758279\n",
       "trainauc       0.940993\n",
       "testloss       0.036162\n",
       "valloss        0.032420\n",
       "trainloss      0.017387\n",
       "epoch         11.000000\n",
       "randominit     1.000000\n",
       "Name: 35, dtype: float64"
      ]
     },
     "metadata": {},
     "output_type": "display_data"
    }
   ],
   "source": [
    "display(traintestloss.loc[traintestloss.valauc.idxmax(),:])"
   ]
  },
  {
   "cell_type": "code",
   "execution_count": 7,
   "metadata": {},
   "outputs": [
    {
     "data": {
      "text/plain": [
       "testauc        0.767386\n",
       "valauc         0.758279\n",
       "trainauc       0.940993\n",
       "testloss       0.036162\n",
       "valloss        0.032420\n",
       "trainloss      0.017387\n",
       "epoch         11.000000\n",
       "randominit     1.000000\n",
       "Name: 35, dtype: float64"
      ]
     },
     "execution_count": 7,
     "metadata": {},
     "output_type": "execute_result"
    }
   ],
   "source": [
    "traintestloss.loc[traintestloss.testauc.idxmax(),:]"
   ]
  },
  {
   "cell_type": "markdown",
   "metadata": {},
   "source": [
    "### AUROC Curves"
   ]
  },
  {
   "cell_type": "code",
   "execution_count": 8,
   "metadata": {},
   "outputs": [],
   "source": [
    "def empBSCI_OLD(stat_bs,stat,ci):\n",
    "    #calculates the empirical bootstrap confidence interval\n",
    "    #stat_bs is the bootstrapped estimate: mean, auroc, aupr etc.\n",
    "    #stat is the non bootstrapped estimate\n",
    "    stat2=stat_bs-stat #this is elementwise\n",
    "    upper=100-(100-ci)/2.0 #upper percentile\n",
    "    lower=(100-ci)/2.0 #lower percentile\n",
    "    upperci=np.percentile(stat2,upper)\n",
    "    lowerci=np.percentile(stat2,lower)\n",
    "    return stat-upperci, stat-lowerci #lower bound, upper bound\n",
    "\n",
    "def empBSCI(stat_bs, ci):                                                                                                                                                            \n",
    "    #calculates the empirical bootstrap confidence interval                                                                                                                          \n",
    "    #stat_bs is the bootstrapped estimate: mean, auroc, aupr etc.                                                                                                                    \n",
    "    #stat is the non bootstrapped estimate                                                                                                                                           \n",
    "    upper=100-(100-ci)/2.0 #upper percentile                                                                                                                                         \n",
    "    lower=(100-ci)/2.0 #lower percentile                                                                                                                                             \n",
    "    upperci=np.percentile(stat_bs,upper)                                                                                                                                             \n",
    "    lowerci=np.percentile(stat_bs,lower)                                                                                                                                             \n",
    "    return lowerci, upperci   \n",
    "\n",
    "def AUROC(df2,noci=False):\n",
    "\n",
    "    if noci:\n",
    "        fpr,tpr,_=metrics.roc_curve(df2['labels'],df2['outputs'],pos_label=1)\n",
    "        auroc=metrics.auc(fpr,tpr)\n",
    "        return auroc\n",
    "    \n",
    "    else:\n",
    "        #Bootstrap 95% CI\n",
    "        np.random.seed(124)\n",
    "        bootstrap=np.random.choice(len(df2),(args['nrep'],len(df2)),replace=True)\n",
    "\n",
    "        aurocbs=np.empty(args['nrep'])\n",
    "        aurocbs[:]=np.nan\n",
    "        for i in range(args['nrep']):\n",
    "            fpr, tpr, _=metrics.roc_curve(df2.iloc[bootstrap[i,:],df2.columns.get_loc('labels')],\n",
    "                                          df2.iloc[bootstrap[i,:],df2.columns.get_loc('outputs')],pos_label=1)\n",
    "            aurocbs[i]=metrics.auc(fpr, tpr)\n",
    "        zauroc=np.argsort(aurocbs) #sorts smallest to largest\n",
    "\n",
    "        lowerindx=bootstrap[zauroc[args['lower']],:]\n",
    "        upperindx=bootstrap[zauroc[args['upper']],:]\n",
    "\n",
    "        fpr_lower, tpr_lower,_=metrics.roc_curve(df2.iloc[lowerindx,df2.columns.get_loc('labels')],\n",
    "                                                 df2.iloc[lowerindx,df2.columns.get_loc('outputs')],pos_label=1)\n",
    "        fpr_upper,tpr_upper,_=metrics.roc_curve(df2.iloc[upperindx,df2.columns.get_loc('labels')],\n",
    "                                                df2.iloc[upperindx,df2.columns.get_loc('outputs')],pos_label=1)\n",
    "        auroc_lower=metrics.auc(fpr_lower,tpr_lower)\n",
    "        auroc_upper=metrics.auc(fpr_upper,tpr_upper)\n",
    "\n",
    "        #ROC\n",
    "        fpr,tpr,_=metrics.roc_curve(df2['labels'],df2['outputs'],pos_label=1)\n",
    "        auroc=metrics.auc(fpr,tpr)\n",
    "\n",
    "        #Plot - No Train\n",
    "        plt.figure()\n",
    "        plt.plot(fpr,tpr,label='Test AUROC=%0.2f' %auroc)\n",
    "        plt.plot(fpr_lower,tpr_lower,'b--')#lower\n",
    "        plt.plot(fpr_upper,tpr_upper,'b--')#upper\n",
    "\n",
    "        plt.xlabel('False Positive Rate')\n",
    "        plt.ylabel('True Positive Rate')\n",
    "        plt.axis([0,1,0,1])\n",
    "        plt.legend(loc='lower right')\n",
    "        plt.tight_layout()\n",
    "        plt.show()\n",
    "        # plt.savefig(pathfig+'auroc-noTrain.eps',format='eps',dpi=300)\n",
    "        # plt.savefig(pathfig+'auroc-noTrain.png',format='png',dpi=300)\n",
    "        plt.clf()\n",
    "\n",
    "        auroc_lower,auroc_upper=empBSCI(aurocbs,95)\n",
    "\n",
    "        print('AUROC Test Upper: {}'.format(auroc_upper))\n",
    "        print('AUROC Test: {}'.format(auroc))\n",
    "        print('AUROC Test Lower: {}'.format(auroc_lower))\n",
    "\n",
    "        return fpr, tpr"
   ]
  },
  {
   "cell_type": "code",
   "execution_count": 117,
   "metadata": {},
   "outputs": [
    {
     "data": {
      "image/png": "[encoded data removed]",
      "text/plain": [
       "<Figure size 432x288 with 1 Axes>"
      ]
     },
     "metadata": {
      "needs_background": "light"
     },
     "output_type": "display_data"
    },
    {
     "name": "stdout",
     "output_type": "stream",
     "text": [
      "AUROC Test Upper: 0.7049719536956041\n",
      "AUROC Test: 0.6783232198452872\n",
      "AUROC Test Lower: 0.6518537785606646\n"
     ]
    },
    {
     "data": {
      "text/plain": [
       "<Figure size 432x288 with 0 Axes>"
      ]
     },
     "metadata": {},
     "output_type": "display_data"
    }
   ],
   "source": [
    "# CHANGE the RANDOMINIT\n",
    "best_randominit=1\n",
    "fpr,tpr = AUROC(pred.loc[(pred.dataset=='test')&(pred.randominit==best_randominit),:])"
   ]
  },
  {
   "cell_type": "markdown",
   "metadata": {},
   "source": [
    "## Train/Val/Test"
   ]
  },
  {
   "cell_type": "code",
   "execution_count": 15,
   "metadata": {},
   "outputs": [
    {
     "data": {
      "image/png": "[encoded data removed]",
      "text/plain": [
       "<Figure size 1008x288 with 2 Axes>"
      ]
     },
     "metadata": {
      "needs_background": "light"
     },
     "output_type": "display_data"
    },
    {
     "data": {
      "text/plain": [
       "<Figure size 432x288 with 0 Axes>"
      ]
     },
     "metadata": {},
     "output_type": "display_data"
    }
   ],
   "source": [
    "for randominit in traintestloss.randominit.unique():\n",
    "    fig, ax = plt.subplots(1,2,figsize=(14,4))\n",
    "    zdf = traintestloss.loc[traintestloss.randominit==randominit,:]\n",
    "    ax[0].plot(zdf.epoch, zdf.trainloss, label='Train')\n",
    "    ax[0].plot(zdf.epoch, zdf.valloss, label='Val')\n",
    "    ax[0].plot(zdf.epoch, zdf.testloss, label='Test')\n",
    "    ax[0].set_ylabel('Loss')\n",
    "    ax[0].set_xlabel('Epochs')\n",
    "    ax[0].set_title('Optimization Loss: rinit '+str(randominit))\n",
    "    ax[0].legend()\n",
    "    \n",
    "    ax[1].plot(zdf.epoch, zdf.trainauc, label='Train')\n",
    "    ax[1].plot(zdf.epoch, zdf.valauc, label='Val')\n",
    "    ax[1].plot(zdf.epoch, zdf.testauc, label='Test')\n",
    "    ax[1].legend()\n",
    "    ax[1].set_xlabel('Epochs')\n",
    "    ax[1].set_title('Evaluation AUC: rinit '+str(randominit))\n",
    "    ax[1].set_ylabel('AUC')\n",
    "    plt.show()\n",
    "    plt.clf()"
   ]
  },
  {
   "cell_type": "code",
   "execution_count": null,
   "metadata": {},
   "outputs": [],
   "source": []
  },
  {
   "cell_type": "code",
   "execution_count": null,
   "metadata": {},
   "outputs": [],
   "source": []
  },
  {
   "cell_type": "code",
   "execution_count": null,
   "metadata": {},
   "outputs": [],
   "source": []
  },
  {
   "cell_type": "code",
   "execution_count": null,
   "metadata": {},
   "outputs": [],
   "source": []
  },
  {
   "cell_type": "code",
   "execution_count": null,
   "metadata": {},
   "outputs": [],
   "source": []
  },
  {
   "cell_type": "code",
   "execution_count": null,
   "metadata": {},
   "outputs": [],
   "source": []
  },
  {
   "cell_type": "code",
   "execution_count": null,
   "metadata": {},
   "outputs": [],
   "source": []
  },
  {
   "cell_type": "code",
   "execution_count": null,
   "metadata": {},
   "outputs": [],
   "source": []
  },
  {
   "cell_type": "code",
   "execution_count": null,
   "metadata": {},
   "outputs": [],
   "source": []
  },
  {
   "cell_type": "code",
   "execution_count": null,
   "metadata": {},
   "outputs": [],
   "source": []
  },
  {
   "cell_type": "code",
   "execution_count": null,
   "metadata": {},
   "outputs": [],
   "source": []
  },
  {
   "cell_type": "code",
   "execution_count": null,
   "metadata": {},
   "outputs": [],
   "source": []
  }
 ],
 "metadata": {
  "kernelspec": {
   "display_name": "py3",
   "language": "python",
   "name": "py3"
  },
  "language_info": {
   "codemirror_mode": {
    "name": "ipython",
    "version": 3
   },
   "file_extension": ".py",
   "mimetype": "text/x-python",
   "name": "python",
   "nbconvert_exporter": "python",
   "pygments_lexer": "ipython3",
   "version": "3.7.4"
  }
 },
 "nbformat": 4,
 "nbformat_minor": 4
}
